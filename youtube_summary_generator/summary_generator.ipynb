{
 "cells": [
  {
   "cell_type": "code",
   "execution_count": null,
   "id": "d54863c7",
   "metadata": {},
   "outputs": [
    {
     "ename": "SyntaxError",
     "evalue": "invalid syntax (4052433979.py, line 1)",
     "output_type": "error",
     "traceback": [
      "  \u001b[36mCell\u001b[39m\u001b[36m \u001b[39m\u001b[32mIn[10]\u001b[39m\u001b[32m, line 1\u001b[39m\n\u001b[31m    \u001b[39m\u001b[31mpip install --upgrade pytube --force-reinstall\u001b[39m\n        ^\n\u001b[31mSyntaxError\u001b[39m\u001b[31m:\u001b[39m invalid syntax\n"
     ]
    }
   ],
   "source": [
    "pip install pytube \n",
    "\n",
    "#For dwnloading yutube videos"
   ]
  },
  {
   "cell_type": "code",
   "execution_count": 1,
   "id": "00e885be",
   "metadata": {},
   "outputs": [],
   "source": [
    "import os\n",
    "from pytube import YouTube\n"
   ]
  },
  {
   "cell_type": "code",
   "execution_count": 8,
   "id": "71a4f260",
   "metadata": {},
   "outputs": [
    {
     "name": "stdout",
     "output_type": "stream",
     "text": [
      "Failed to fetch video details: HTTP Error 400: Bad Request\n"
     ]
    }
   ],
   "source": [
    "from pytube import YouTube\n",
    "\n",
    "try:\n",
    "    yt = YouTube('https://www.youtube.com/watch?v=dQw4w9WgXcQ')  # Rick Astley 😊\n",
    "    print(f'Title: {yt.title}')\n",
    "except Exception as e:\n",
    "    print(f\"Failed to fetch video details: {e}\")\n"
   ]
  },
  {
   "cell_type": "code",
   "execution_count": null,
   "id": "41170da5",
   "metadata": {},
   "outputs": [],
   "source": []
  }
 ],
 "metadata": {
  "kernelspec": {
   "display_name": "env",
   "language": "python",
   "name": "python3"
  },
  "language_info": {
   "codemirror_mode": {
    "name": "ipython",
    "version": 3
   },
   "file_extension": ".py",
   "mimetype": "text/x-python",
   "name": "python",
   "nbconvert_exporter": "python",
   "pygments_lexer": "ipython3",
   "version": "3.13.3"
  }
 },
 "nbformat": 4,
 "nbformat_minor": 5
}
